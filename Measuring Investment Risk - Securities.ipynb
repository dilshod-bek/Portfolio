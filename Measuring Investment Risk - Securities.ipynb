{
 "cells": [
  {
   "cell_type": "markdown",
   "metadata": {},
   "source": [
    "# Calculating a security's risk in Python"
   ]
  },
  {
   "cell_type": "code",
   "execution_count": 55,
   "metadata": {},
   "outputs": [],
   "source": [
    "# Import the necessary libraries for the project\n",
    "\n",
    "import numpy as np\n",
    "import pandas as pd\n",
    "from pandas_datareader import data as wb\n",
    "import matplotlib.pyplot as plt\n"
   ]
  },
  {
   "cell_type": "code",
   "execution_count": 56,
   "metadata": {},
   "outputs": [],
   "source": [
    "# Create a list of stocks and name it as \"tickers\"\n",
    "\n",
    "tickers = ['KO', 'TSLA', 'AAPL', 'MSFT']\n",
    "\n",
    "# Create a dataframe and name it as \"sec_data\"\n",
    "\n",
    "sec_data = pd.DataFrame()\n",
    "\n",
    "for t in tickers:\n",
    "    sec_data[t] = wb.DataReader(t, data_source = 'yahoo', start = '2015-1-1')['Adj Close']\n",
    "    "
   ]
  },
  {
   "cell_type": "code",
   "execution_count": 57,
   "metadata": {},
   "outputs": [
    {
     "data": {
      "text/html": [
       "<div>\n",
       "<style scoped>\n",
       "    .dataframe tbody tr th:only-of-type {\n",
       "        vertical-align: middle;\n",
       "    }\n",
       "\n",
       "    .dataframe tbody tr th {\n",
       "        vertical-align: top;\n",
       "    }\n",
       "\n",
       "    .dataframe thead th {\n",
       "        text-align: right;\n",
       "    }\n",
       "</style>\n",
       "<table border=\"1\" class=\"dataframe\">\n",
       "  <thead>\n",
       "    <tr style=\"text-align: right;\">\n",
       "      <th></th>\n",
       "      <th>KO</th>\n",
       "      <th>TSLA</th>\n",
       "      <th>AAPL</th>\n",
       "      <th>MSFT</th>\n",
       "    </tr>\n",
       "    <tr>\n",
       "      <th>Date</th>\n",
       "      <th></th>\n",
       "      <th></th>\n",
       "      <th></th>\n",
       "      <th></th>\n",
       "    </tr>\n",
       "  </thead>\n",
       "  <tbody>\n",
       "    <tr>\n",
       "      <th>2015-01-02</th>\n",
       "      <td>35.171711</td>\n",
       "      <td>219.309998</td>\n",
       "      <td>99.766006</td>\n",
       "      <td>41.647892</td>\n",
       "    </tr>\n",
       "    <tr>\n",
       "      <th>2015-01-05</th>\n",
       "      <td>35.171711</td>\n",
       "      <td>210.089996</td>\n",
       "      <td>96.955429</td>\n",
       "      <td>41.264908</td>\n",
       "    </tr>\n",
       "    <tr>\n",
       "      <th>2015-01-06</th>\n",
       "      <td>35.438805</td>\n",
       "      <td>211.279999</td>\n",
       "      <td>96.964584</td>\n",
       "      <td>40.659245</td>\n",
       "    </tr>\n",
       "    <tr>\n",
       "      <th>2015-01-07</th>\n",
       "      <td>35.881165</td>\n",
       "      <td>210.949997</td>\n",
       "      <td>98.324242</td>\n",
       "      <td>41.175831</td>\n",
       "    </tr>\n",
       "    <tr>\n",
       "      <th>2015-01-08</th>\n",
       "      <td>36.315170</td>\n",
       "      <td>210.619995</td>\n",
       "      <td>102.102089</td>\n",
       "      <td>42.387146</td>\n",
       "    </tr>\n",
       "  </tbody>\n",
       "</table>\n",
       "</div>"
      ],
      "text/plain": [
       "                   KO        TSLA        AAPL       MSFT\n",
       "Date                                                    \n",
       "2015-01-02  35.171711  219.309998   99.766006  41.647892\n",
       "2015-01-05  35.171711  210.089996   96.955429  41.264908\n",
       "2015-01-06  35.438805  211.279999   96.964584  40.659245\n",
       "2015-01-07  35.881165  210.949997   98.324242  41.175831\n",
       "2015-01-08  36.315170  210.619995  102.102089  42.387146"
      ]
     },
     "execution_count": 57,
     "metadata": {},
     "output_type": "execute_result"
    }
   ],
   "source": [
    "sec_data.head()"
   ]
  },
  {
   "cell_type": "code",
   "execution_count": 58,
   "metadata": {},
   "outputs": [
    {
     "data": {
      "text/html": [
       "<div>\n",
       "<style scoped>\n",
       "    .dataframe tbody tr th:only-of-type {\n",
       "        vertical-align: middle;\n",
       "    }\n",
       "\n",
       "    .dataframe tbody tr th {\n",
       "        vertical-align: top;\n",
       "    }\n",
       "\n",
       "    .dataframe thead th {\n",
       "        text-align: right;\n",
       "    }\n",
       "</style>\n",
       "<table border=\"1\" class=\"dataframe\">\n",
       "  <thead>\n",
       "    <tr style=\"text-align: right;\">\n",
       "      <th></th>\n",
       "      <th>KO</th>\n",
       "      <th>TSLA</th>\n",
       "      <th>AAPL</th>\n",
       "      <th>MSFT</th>\n",
       "    </tr>\n",
       "    <tr>\n",
       "      <th>Date</th>\n",
       "      <th></th>\n",
       "      <th></th>\n",
       "      <th></th>\n",
       "      <th></th>\n",
       "    </tr>\n",
       "  </thead>\n",
       "  <tbody>\n",
       "    <tr>\n",
       "      <th>2015-01-02</th>\n",
       "      <td>NaN</td>\n",
       "      <td>NaN</td>\n",
       "      <td>NaN</td>\n",
       "      <td>NaN</td>\n",
       "    </tr>\n",
       "    <tr>\n",
       "      <th>2015-01-05</th>\n",
       "      <td>0.000000</td>\n",
       "      <td>-0.042950</td>\n",
       "      <td>-0.028576</td>\n",
       "      <td>-0.009238</td>\n",
       "    </tr>\n",
       "    <tr>\n",
       "      <th>2015-01-06</th>\n",
       "      <td>0.007565</td>\n",
       "      <td>0.005648</td>\n",
       "      <td>0.000094</td>\n",
       "      <td>-0.014786</td>\n",
       "    </tr>\n",
       "    <tr>\n",
       "      <th>2015-01-07</th>\n",
       "      <td>0.012405</td>\n",
       "      <td>-0.001563</td>\n",
       "      <td>0.013925</td>\n",
       "      <td>0.012625</td>\n",
       "    </tr>\n",
       "    <tr>\n",
       "      <th>2015-01-08</th>\n",
       "      <td>0.012023</td>\n",
       "      <td>-0.001566</td>\n",
       "      <td>0.037703</td>\n",
       "      <td>0.028994</td>\n",
       "    </tr>\n",
       "    <tr>\n",
       "      <th>...</th>\n",
       "      <td>...</td>\n",
       "      <td>...</td>\n",
       "      <td>...</td>\n",
       "      <td>...</td>\n",
       "    </tr>\n",
       "    <tr>\n",
       "      <th>2020-08-24</th>\n",
       "      <td>0.014488</td>\n",
       "      <td>-0.017608</td>\n",
       "      <td>0.011889</td>\n",
       "      <td>0.003140</td>\n",
       "    </tr>\n",
       "    <tr>\n",
       "      <th>2020-08-25</th>\n",
       "      <td>-0.001252</td>\n",
       "      <td>0.004528</td>\n",
       "      <td>-0.008238</td>\n",
       "      <td>0.012926</td>\n",
       "    </tr>\n",
       "    <tr>\n",
       "      <th>2020-08-26</th>\n",
       "      <td>0.005205</td>\n",
       "      <td>0.062192</td>\n",
       "      <td>0.013507</td>\n",
       "      <td>0.021389</td>\n",
       "    </tr>\n",
       "    <tr>\n",
       "      <th>2020-08-27</th>\n",
       "      <td>0.001452</td>\n",
       "      <td>0.038977</td>\n",
       "      <td>-0.012026</td>\n",
       "      <td>0.024257</td>\n",
       "    </tr>\n",
       "    <tr>\n",
       "      <th>2020-08-28</th>\n",
       "      <td>0.032636</td>\n",
       "      <td>-0.011388</td>\n",
       "      <td>-0.001621</td>\n",
       "      <td>0.010231</td>\n",
       "    </tr>\n",
       "  </tbody>\n",
       "</table>\n",
       "<p>1425 rows × 4 columns</p>\n",
       "</div>"
      ],
      "text/plain": [
       "                  KO      TSLA      AAPL      MSFT\n",
       "Date                                              \n",
       "2015-01-02       NaN       NaN       NaN       NaN\n",
       "2015-01-05  0.000000 -0.042950 -0.028576 -0.009238\n",
       "2015-01-06  0.007565  0.005648  0.000094 -0.014786\n",
       "2015-01-07  0.012405 -0.001563  0.013925  0.012625\n",
       "2015-01-08  0.012023 -0.001566  0.037703  0.028994\n",
       "...              ...       ...       ...       ...\n",
       "2020-08-24  0.014488 -0.017608  0.011889  0.003140\n",
       "2020-08-25 -0.001252  0.004528 -0.008238  0.012926\n",
       "2020-08-26  0.005205  0.062192  0.013507  0.021389\n",
       "2020-08-27  0.001452  0.038977 -0.012026  0.024257\n",
       "2020-08-28  0.032636 -0.011388 -0.001621  0.010231\n",
       "\n",
       "[1425 rows x 4 columns]"
      ]
     },
     "execution_count": 58,
     "metadata": {},
     "output_type": "execute_result"
    }
   ],
   "source": [
    "# Cacculate daily log returns for all stocks\n",
    "\n",
    "sec_returns = np.log(sec_data / sec_data.shift(1))\n",
    "sec_returns"
   ]
  },
  {
   "cell_type": "code",
   "execution_count": 59,
   "metadata": {},
   "outputs": [
    {
     "data": {
      "text/plain": [
       "KO      0.000245\n",
       "TSLA    0.001623\n",
       "AAPL    0.001131\n",
       "MSFT    0.001197\n",
       "dtype: float64"
      ]
     },
     "execution_count": 59,
     "metadata": {},
     "output_type": "execute_result"
    }
   ],
   "source": [
    "# Calculate the average daily return for all stocks in \"tickers\" list:\n",
    "\n",
    "sec_returns[tickers].mean()"
   ]
  },
  {
   "cell_type": "code",
   "execution_count": 60,
   "metadata": {},
   "outputs": [
    {
     "data": {
      "text/plain": [
       "KO      0.061161\n",
       "TSLA    0.405864\n",
       "AAPL    0.282697\n",
       "MSFT    0.299171\n",
       "dtype: float64"
      ]
     },
     "execution_count": 60,
     "metadata": {},
     "output_type": "execute_result"
    }
   ],
   "source": [
    "# Calculate the annual return for all stocks in \"tickers\" list:\n",
    "\n",
    "sec_returns[tickers].mean() * 250"
   ]
  },
  {
   "cell_type": "code",
   "execution_count": 61,
   "metadata": {},
   "outputs": [
    {
     "data": {
      "text/plain": [
       "KO      0.012013\n",
       "TSLA    0.033452\n",
       "AAPL    0.018195\n",
       "MSFT    0.017408\n",
       "dtype: float64"
      ]
     },
     "execution_count": 61,
     "metadata": {},
     "output_type": "execute_result"
    }
   ],
   "source": [
    "# Calculate the daily standard deviation for all stocks in \"tickers\" list:\n",
    "\n",
    "sec_returns[tickers].std()"
   ]
  },
  {
   "cell_type": "code",
   "execution_count": 62,
   "metadata": {},
   "outputs": [
    {
     "data": {
      "text/plain": [
       "KO      0.189939\n",
       "TSLA    0.528922\n",
       "AAPL    0.287686\n",
       "MSFT    0.275248\n",
       "dtype: float64"
      ]
     },
     "execution_count": 62,
     "metadata": {},
     "output_type": "execute_result"
    }
   ],
   "source": [
    "# Calculate the annual standard deviation for all stocks in \"tickers\" list:\n",
    "\n",
    "sec_returns[tickers].std() * np.sqrt(250)"
   ]
  },
  {
   "cell_type": "markdown",
   "metadata": {},
   "source": [
    "# Calculating Covariance and Correlation"
   ]
  },
  {
   "cell_type": "code",
   "execution_count": 63,
   "metadata": {},
   "outputs": [
    {
     "data": {
      "text/html": [
       "<div>\n",
       "<style scoped>\n",
       "    .dataframe tbody tr th:only-of-type {\n",
       "        vertical-align: middle;\n",
       "    }\n",
       "\n",
       "    .dataframe tbody tr th {\n",
       "        vertical-align: top;\n",
       "    }\n",
       "\n",
       "    .dataframe thead th {\n",
       "        text-align: right;\n",
       "    }\n",
       "</style>\n",
       "<table border=\"1\" class=\"dataframe\">\n",
       "  <thead>\n",
       "    <tr style=\"text-align: right;\">\n",
       "      <th></th>\n",
       "      <th>KO</th>\n",
       "      <th>TSLA</th>\n",
       "      <th>AAPL</th>\n",
       "      <th>MSFT</th>\n",
       "    </tr>\n",
       "    <tr>\n",
       "      <th>Date</th>\n",
       "      <th></th>\n",
       "      <th></th>\n",
       "      <th></th>\n",
       "      <th></th>\n",
       "    </tr>\n",
       "  </thead>\n",
       "  <tbody>\n",
       "    <tr>\n",
       "      <th>2015-01-02</th>\n",
       "      <td>NaN</td>\n",
       "      <td>NaN</td>\n",
       "      <td>NaN</td>\n",
       "      <td>NaN</td>\n",
       "    </tr>\n",
       "    <tr>\n",
       "      <th>2015-01-05</th>\n",
       "      <td>0.000000</td>\n",
       "      <td>-0.042950</td>\n",
       "      <td>-0.028576</td>\n",
       "      <td>-0.009238</td>\n",
       "    </tr>\n",
       "    <tr>\n",
       "      <th>2015-01-06</th>\n",
       "      <td>0.007565</td>\n",
       "      <td>0.005648</td>\n",
       "      <td>0.000094</td>\n",
       "      <td>-0.014786</td>\n",
       "    </tr>\n",
       "    <tr>\n",
       "      <th>2015-01-07</th>\n",
       "      <td>0.012405</td>\n",
       "      <td>-0.001563</td>\n",
       "      <td>0.013925</td>\n",
       "      <td>0.012625</td>\n",
       "    </tr>\n",
       "    <tr>\n",
       "      <th>2015-01-08</th>\n",
       "      <td>0.012023</td>\n",
       "      <td>-0.001566</td>\n",
       "      <td>0.037703</td>\n",
       "      <td>0.028994</td>\n",
       "    </tr>\n",
       "  </tbody>\n",
       "</table>\n",
       "</div>"
      ],
      "text/plain": [
       "                  KO      TSLA      AAPL      MSFT\n",
       "Date                                              \n",
       "2015-01-02       NaN       NaN       NaN       NaN\n",
       "2015-01-05  0.000000 -0.042950 -0.028576 -0.009238\n",
       "2015-01-06  0.007565  0.005648  0.000094 -0.014786\n",
       "2015-01-07  0.012405 -0.001563  0.013925  0.012625\n",
       "2015-01-08  0.012023 -0.001566  0.037703  0.028994"
      ]
     },
     "execution_count": 63,
     "metadata": {},
     "output_type": "execute_result"
    }
   ],
   "source": [
    "sec_returns.head()"
   ]
  },
  {
   "cell_type": "code",
   "execution_count": 64,
   "metadata": {},
   "outputs": [
    {
     "data": {
      "text/html": [
       "<div>\n",
       "<style scoped>\n",
       "    .dataframe tbody tr th:only-of-type {\n",
       "        vertical-align: middle;\n",
       "    }\n",
       "\n",
       "    .dataframe tbody tr th {\n",
       "        vertical-align: top;\n",
       "    }\n",
       "\n",
       "    .dataframe thead th {\n",
       "        text-align: right;\n",
       "    }\n",
       "</style>\n",
       "<table border=\"1\" class=\"dataframe\">\n",
       "  <thead>\n",
       "    <tr style=\"text-align: right;\">\n",
       "      <th></th>\n",
       "      <th>KO</th>\n",
       "      <th>TSLA</th>\n",
       "      <th>AAPL</th>\n",
       "      <th>MSFT</th>\n",
       "    </tr>\n",
       "  </thead>\n",
       "  <tbody>\n",
       "    <tr>\n",
       "      <th>KO</th>\n",
       "      <td>0.000144</td>\n",
       "      <td>0.000093</td>\n",
       "      <td>0.000090</td>\n",
       "      <td>0.000099</td>\n",
       "    </tr>\n",
       "    <tr>\n",
       "      <th>TSLA</th>\n",
       "      <td>0.000093</td>\n",
       "      <td>0.001119</td>\n",
       "      <td>0.000224</td>\n",
       "      <td>0.000234</td>\n",
       "    </tr>\n",
       "    <tr>\n",
       "      <th>AAPL</th>\n",
       "      <td>0.000090</td>\n",
       "      <td>0.000224</td>\n",
       "      <td>0.000331</td>\n",
       "      <td>0.000216</td>\n",
       "    </tr>\n",
       "    <tr>\n",
       "      <th>MSFT</th>\n",
       "      <td>0.000099</td>\n",
       "      <td>0.000234</td>\n",
       "      <td>0.000216</td>\n",
       "      <td>0.000303</td>\n",
       "    </tr>\n",
       "  </tbody>\n",
       "</table>\n",
       "</div>"
      ],
      "text/plain": [
       "            KO      TSLA      AAPL      MSFT\n",
       "KO    0.000144  0.000093  0.000090  0.000099\n",
       "TSLA  0.000093  0.001119  0.000224  0.000234\n",
       "AAPL  0.000090  0.000224  0.000331  0.000216\n",
       "MSFT  0.000099  0.000234  0.000216  0.000303"
      ]
     },
     "execution_count": 64,
     "metadata": {},
     "output_type": "execute_result"
    }
   ],
   "source": [
    "# Calcukate the covaraince of all stocks\n",
    "\n",
    "covariance_matrix = sec_returns.cov()\n",
    "covariance_matrix"
   ]
  },
  {
   "cell_type": "code",
   "execution_count": 65,
   "metadata": {},
   "outputs": [
    {
     "data": {
      "text/html": [
       "<div>\n",
       "<style scoped>\n",
       "    .dataframe tbody tr th:only-of-type {\n",
       "        vertical-align: middle;\n",
       "    }\n",
       "\n",
       "    .dataframe tbody tr th {\n",
       "        vertical-align: top;\n",
       "    }\n",
       "\n",
       "    .dataframe thead th {\n",
       "        text-align: right;\n",
       "    }\n",
       "</style>\n",
       "<table border=\"1\" class=\"dataframe\">\n",
       "  <thead>\n",
       "    <tr style=\"text-align: right;\">\n",
       "      <th></th>\n",
       "      <th>KO</th>\n",
       "      <th>TSLA</th>\n",
       "      <th>AAPL</th>\n",
       "      <th>MSFT</th>\n",
       "    </tr>\n",
       "  </thead>\n",
       "  <tbody>\n",
       "    <tr>\n",
       "      <th>KO</th>\n",
       "      <td>1.000000</td>\n",
       "      <td>0.232594</td>\n",
       "      <td>0.410221</td>\n",
       "      <td>0.475034</td>\n",
       "    </tr>\n",
       "    <tr>\n",
       "      <th>TSLA</th>\n",
       "      <td>0.232594</td>\n",
       "      <td>1.000000</td>\n",
       "      <td>0.367753</td>\n",
       "      <td>0.401600</td>\n",
       "    </tr>\n",
       "    <tr>\n",
       "      <th>AAPL</th>\n",
       "      <td>0.410221</td>\n",
       "      <td>0.367753</td>\n",
       "      <td>1.000000</td>\n",
       "      <td>0.682381</td>\n",
       "    </tr>\n",
       "    <tr>\n",
       "      <th>MSFT</th>\n",
       "      <td>0.475034</td>\n",
       "      <td>0.401600</td>\n",
       "      <td>0.682381</td>\n",
       "      <td>1.000000</td>\n",
       "    </tr>\n",
       "  </tbody>\n",
       "</table>\n",
       "</div>"
      ],
      "text/plain": [
       "            KO      TSLA      AAPL      MSFT\n",
       "KO    1.000000  0.232594  0.410221  0.475034\n",
       "TSLA  0.232594  1.000000  0.367753  0.401600\n",
       "AAPL  0.410221  0.367753  1.000000  0.682381\n",
       "MSFT  0.475034  0.401600  0.682381  1.000000"
      ]
     },
     "execution_count": 65,
     "metadata": {},
     "output_type": "execute_result"
    }
   ],
   "source": [
    "# Calcukate the correlation of all stocks between each other\n",
    "\n",
    "correlation_matrix = sec_returns.corr()\n",
    "correlation_matrix"
   ]
  },
  {
   "cell_type": "code",
   "execution_count": 66,
   "metadata": {},
   "outputs": [],
   "source": [
    "## Correlation between stock prices and returns are not the same thing!\n",
    "## Do not annualize the correlation table!"
   ]
  },
  {
   "cell_type": "markdown",
   "metadata": {},
   "source": [
    "# Calculating Portfolio Risk"
   ]
  },
  {
   "cell_type": "code",
   "execution_count": 176,
   "metadata": {},
   "outputs": [],
   "source": [
    "# First, we need to assign weights to all stocks in our portfolio\n",
    "# If we invest same amount of money to each stock:\n",
    "\n",
    "weights = np.array([0.25, 0.25, 0.25, 0.25])\n"
   ]
  },
  {
   "cell_type": "markdown",
   "metadata": {},
   "source": [
    "## Portfolio variance"
   ]
  },
  {
   "cell_type": "code",
   "execution_count": 177,
   "metadata": {},
   "outputs": [],
   "source": [
    "portfolio_var = np.dot(weights.T, np.dot(sec_returns.cov() * 250, weights)) "
   ]
  },
  {
   "cell_type": "code",
   "execution_count": 178,
   "metadata": {},
   "outputs": [
    {
     "data": {
      "text/plain": [
       "0.059532178439548125"
      ]
     },
     "execution_count": 178,
     "metadata": {},
     "output_type": "execute_result"
    }
   ],
   "source": [
    "portfolio_var"
   ]
  },
  {
   "cell_type": "code",
   "execution_count": 179,
   "metadata": {},
   "outputs": [
    {
     "name": "stdout",
     "output_type": "stream",
     "text": [
      "5.953%\n"
     ]
    }
   ],
   "source": [
    "print(str(round(portfolio_var, 5) * 100) + '%')"
   ]
  },
  {
   "cell_type": "markdown",
   "metadata": {},
   "source": [
    "## Portfolio volatility"
   ]
  },
  {
   "cell_type": "code",
   "execution_count": 180,
   "metadata": {},
   "outputs": [
    {
     "data": {
      "text/plain": [
       "0.243992168807829"
      ]
     },
     "execution_count": 180,
     "metadata": {},
     "output_type": "execute_result"
    }
   ],
   "source": [
    "portfolio_vol = np.sqrt(np.dot(weights.T, np.dot(sec_returns.cov() * 250, weights)))\n",
    "portfolio_vol"
   ]
  },
  {
   "cell_type": "code",
   "execution_count": 181,
   "metadata": {},
   "outputs": [
    {
     "name": "stdout",
     "output_type": "stream",
     "text": [
      "24.399%\n"
     ]
    }
   ],
   "source": [
    "print(str(round(portfolio_vol, 5) * 100) + '%')"
   ]
  },
  {
   "cell_type": "markdown",
   "metadata": {},
   "source": [
    "## Calculating Diversifiable and Non-diversifiable risk of a portfolio"
   ]
  },
  {
   "cell_type": "code",
   "execution_count": 182,
   "metadata": {},
   "outputs": [
    {
     "data": {
      "text/plain": [
       "array([0.25, 0.25, 0.25, 0.25])"
      ]
     },
     "execution_count": 182,
     "metadata": {},
     "output_type": "execute_result"
    }
   ],
   "source": [
    "weights"
   ]
  },
  {
   "cell_type": "code",
   "execution_count": 183,
   "metadata": {},
   "outputs": [
    {
     "data": {
      "text/plain": [
       "KO      0.036077\n",
       "TSLA    0.279759\n",
       "AAPL    0.082763\n",
       "MSFT    0.075761\n",
       "dtype: float64"
      ]
     },
     "execution_count": 183,
     "metadata": {},
     "output_type": "execute_result"
    }
   ],
   "source": [
    "variance_all_stocks = sec_returns[tickers].var() * 250\n",
    "variance_all_stocks"
   ]
  },
  {
   "cell_type": "code",
   "execution_count": 184,
   "metadata": {},
   "outputs": [],
   "source": [
    "## Diversifiable Risk = portfolio variance - weighted annual variances\n",
    "\n",
    "diversifiable_risk = portfolio_var - ((weights[0] ** 2 * variance_all_stocks[0]) + (weights[1] ** 2 * variance_all_stocks[1]) + (weights[2] ** 2 * variance_all_stocks[2]) + (weights[3] ** 2 * variance_all_stocks[3]))"
   ]
  },
  {
   "cell_type": "code",
   "execution_count": 185,
   "metadata": {},
   "outputs": [
    {
     "data": {
      "text/plain": [
       "0.029884657451493483"
      ]
     },
     "execution_count": 185,
     "metadata": {},
     "output_type": "execute_result"
    }
   ],
   "source": [
    "diversifiable_risk"
   ]
  },
  {
   "cell_type": "code",
   "execution_count": 186,
   "metadata": {},
   "outputs": [
    {
     "name": "stdout",
     "output_type": "stream",
     "text": [
      "2.988%\n"
     ]
    }
   ],
   "source": [
    "print(str(round(diversifiable_risk * 100, 3)) + '%')"
   ]
  },
  {
   "cell_type": "markdown",
   "metadata": {},
   "source": [
    "## Non-diversifiable risk"
   ]
  },
  {
   "cell_type": "code",
   "execution_count": 187,
   "metadata": {},
   "outputs": [
    {
     "data": {
      "text/plain": [
       "0.02964752098805464"
      ]
     },
     "execution_count": 187,
     "metadata": {},
     "output_type": "execute_result"
    }
   ],
   "source": [
    "non_div_risk_1 = portfolio_var - diversifiable_risk\n",
    "non_div_risk_1\n"
   ]
  },
  {
   "cell_type": "code",
   "execution_count": 188,
   "metadata": {},
   "outputs": [
    {
     "data": {
      "text/plain": [
       "0.02964752098805464"
      ]
     },
     "execution_count": 188,
     "metadata": {},
     "output_type": "execute_result"
    }
   ],
   "source": [
    "non_div_risk_2 = (weights[0] ** 2 * variance_all_stocks[0]) + (weights[1] ** 2 * variance_all_stocks[1]) + (weights[2] ** 2 * variance_all_stocks[2]) + (weights[3] ** 2 * variance_all_stocks[3])\n",
    "non_div_risk_2"
   ]
  },
  {
   "cell_type": "code",
   "execution_count": 189,
   "metadata": {},
   "outputs": [
    {
     "name": "stdout",
     "output_type": "stream",
     "text": [
      "2.965%\n"
     ]
    }
   ],
   "source": [
    "print(str(round(non_div_risk_2, 5) * 100) + '%')"
   ]
  },
  {
   "cell_type": "code",
   "execution_count": 190,
   "metadata": {},
   "outputs": [
    {
     "data": {
      "text/plain": [
       "True"
      ]
     },
     "execution_count": 190,
     "metadata": {},
     "output_type": "execute_result"
    }
   ],
   "source": [
    "non_div_risk_1 == non_div_risk_2"
   ]
  }
 ],
 "metadata": {
  "kernelspec": {
   "display_name": "Python 3",
   "language": "python",
   "name": "python3"
  },
  "language_info": {
   "codemirror_mode": {
    "name": "ipython",
    "version": 3
   },
   "file_extension": ".py",
   "mimetype": "text/x-python",
   "name": "python",
   "nbconvert_exporter": "python",
   "pygments_lexer": "ipython3",
   "version": "3.7.6"
  }
 },
 "nbformat": 4,
 "nbformat_minor": 4
}
